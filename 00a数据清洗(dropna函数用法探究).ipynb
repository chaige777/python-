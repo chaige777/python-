{
 "cells": [
  {
   "cell_type": "markdown",
   "id": "bc4867d5",
   "metadata": {},
   "source": [
    "##### 0.摘要\n",
    "\n",
    "dropna()方法，能够找到DataFrame类型数据的空值（缺失值），将空值所在的行/列删除后，将新的DataFrame作为返回值返回。"
   ]
  },
  {
   "cell_type": "markdown",
   "id": "8fa38736",
   "metadata": {},
   "source": [
    "##### 1.函数详解\n",
    "\n",
    "函数形式：dropna(axis=0, how='any', thresh=None, subset=None, inplace=False)\n",
    "\n",
    "参数：\n",
    "\n",
    "axis：轴。0或'index'，表示按行删除；1或'columns'，表示按列删除。\n",
    "\n",
    "how：筛选方式。‘any’，表示该行/列只要有一个以上的空值，就删除该行/列；‘all’，表示该行/列全部都为空值，就删除该行/列。\n",
    "\n",
    "thresh：非空元素最低数量。int型，默认为None。如果该行/列中，非空元素数量小于这个值，就删除该行/列。\n",
    "\n",
    "subset：子集。列表，元素为行或者列的索引。如果axis=0或者‘index’，subset中元素为列的索引；如果axis=1或者‘column’，subset中元素为行的索引。由subset限制的子区域，是判断是否删除该行/列的条件判断区域。\n",
    "\n",
    "inplace：是否原地替换。布尔值，默认为False。如果为True，则在原DataFrame上进行操作，返回值为None。"
   ]
  },
  {
   "cell_type": "markdown",
   "id": "b72f6d1e",
   "metadata": {},
   "source": [
    "##### 2.示例\n",
    "\n",
    "创建DataFrame数据："
   ]
  },
  {
   "cell_type": "code",
   "execution_count": 2,
   "id": "f28b20eb",
   "metadata": {},
   "outputs": [
    {
     "name": "stdout",
     "output_type": "stream",
     "text": [
      "      0    1    2    3    4    5    6    7    8    9\n",
      "0   1.0  1.0  1.0  1.0  1.0  1.0  1.0  1.0  1.0  1.0\n",
      "1   NaN  1.0  1.0  1.0  1.0  1.0  1.0  1.0  1.0  1.0\n",
      "2   NaN  NaN  1.0  1.0  1.0  1.0  1.0  1.0  1.0  1.0\n",
      "3   NaN  NaN  NaN  1.0  1.0  1.0  1.0  1.0  1.0  1.0\n",
      "4   NaN  NaN  NaN  NaN  1.0  1.0  1.0  1.0  1.0  1.0\n",
      "5   NaN  NaN  NaN  NaN  NaN  1.0  1.0  1.0  1.0  1.0\n",
      "6   NaN  NaN  NaN  NaN  NaN  NaN  1.0  1.0  1.0  1.0\n",
      "7   NaN  NaN  NaN  NaN  NaN  NaN  NaN  1.0  1.0  1.0\n",
      "8   NaN  NaN  NaN  NaN  NaN  NaN  NaN  NaN  1.0  1.0\n",
      "9   NaN  NaN  NaN  NaN  NaN  NaN  NaN  NaN  NaN  1.0\n",
      "10  NaN  NaN  NaN  NaN  NaN  NaN  NaN  NaN  NaN  NaN\n"
     ]
    }
   ],
   "source": [
    "import numpy as np\n",
    "import pandas as pd\n",
    " \n",
    "a = np.ones((11,10))\n",
    "for i in range(len(a)):\n",
    "    a[i,:i] = np.nan\n",
    " \n",
    "d = pd.DataFrame(data=a)\n",
    "print(d)"
   ]
  },
  {
   "cell_type": "markdown",
   "id": "da6c3bff",
   "metadata": {},
   "source": [
    "##### 按行删除：存在空值，即删除该行"
   ]
  },
  {
   "cell_type": "code",
   "execution_count": 3,
   "id": "076fcb15",
   "metadata": {},
   "outputs": [
    {
     "name": "stdout",
     "output_type": "stream",
     "text": [
      "     0    1    2    3    4    5    6    7    8    9\n",
      "0  1.0  1.0  1.0  1.0  1.0  1.0  1.0  1.0  1.0  1.0\n"
     ]
    }
   ],
   "source": [
    "print(d.dropna(axis=0, how='any'))"
   ]
  },
  {
   "cell_type": "markdown",
   "id": "06fdfcc9",
   "metadata": {},
   "source": [
    "##### 按行删除：所有数据都为空值，即删除该行"
   ]
  },
  {
   "cell_type": "code",
   "execution_count": 4,
   "id": "b1a18513",
   "metadata": {},
   "outputs": [
    {
     "name": "stdout",
     "output_type": "stream",
     "text": [
      "     0    1    2    3    4    5    6    7    8    9\n",
      "0  1.0  1.0  1.0  1.0  1.0  1.0  1.0  1.0  1.0  1.0\n",
      "1  NaN  1.0  1.0  1.0  1.0  1.0  1.0  1.0  1.0  1.0\n",
      "2  NaN  NaN  1.0  1.0  1.0  1.0  1.0  1.0  1.0  1.0\n",
      "3  NaN  NaN  NaN  1.0  1.0  1.0  1.0  1.0  1.0  1.0\n",
      "4  NaN  NaN  NaN  NaN  1.0  1.0  1.0  1.0  1.0  1.0\n",
      "5  NaN  NaN  NaN  NaN  NaN  1.0  1.0  1.0  1.0  1.0\n",
      "6  NaN  NaN  NaN  NaN  NaN  NaN  1.0  1.0  1.0  1.0\n",
      "7  NaN  NaN  NaN  NaN  NaN  NaN  NaN  1.0  1.0  1.0\n",
      "8  NaN  NaN  NaN  NaN  NaN  NaN  NaN  NaN  1.0  1.0\n",
      "9  NaN  NaN  NaN  NaN  NaN  NaN  NaN  NaN  NaN  1.0\n"
     ]
    }
   ],
   "source": [
    "print(d.dropna(axis=0, how='all'))"
   ]
  },
  {
   "cell_type": "markdown",
   "id": "0e6e6c2a",
   "metadata": {},
   "source": [
    "##### 按列删除：该列非空元素小于5个的，即删除该列"
   ]
  },
  {
   "cell_type": "code",
   "execution_count": 5,
   "id": "fc7c28f6",
   "metadata": {},
   "outputs": [
    {
     "name": "stdout",
     "output_type": "stream",
     "text": [
      "      4    5    6    7    8    9\n",
      "0   1.0  1.0  1.0  1.0  1.0  1.0\n",
      "1   1.0  1.0  1.0  1.0  1.0  1.0\n",
      "2   1.0  1.0  1.0  1.0  1.0  1.0\n",
      "3   1.0  1.0  1.0  1.0  1.0  1.0\n",
      "4   1.0  1.0  1.0  1.0  1.0  1.0\n",
      "5   NaN  1.0  1.0  1.0  1.0  1.0\n",
      "6   NaN  NaN  1.0  1.0  1.0  1.0\n",
      "7   NaN  NaN  NaN  1.0  1.0  1.0\n",
      "8   NaN  NaN  NaN  NaN  1.0  1.0\n",
      "9   NaN  NaN  NaN  NaN  NaN  1.0\n",
      "10  NaN  NaN  NaN  NaN  NaN  NaN\n"
     ]
    }
   ],
   "source": [
    "print(d.dropna(axis='columns', thresh=5))"
   ]
  },
  {
   "cell_type": "markdown",
   "id": "fe5c7ddf",
   "metadata": {},
   "source": [
    "##### 设置子集：删除第0、5、6、7列都为空的行"
   ]
  },
  {
   "cell_type": "code",
   "execution_count": 6,
   "id": "e98350c4",
   "metadata": {},
   "outputs": [
    {
     "name": "stdout",
     "output_type": "stream",
     "text": [
      "     0    1    2    3    4    5    6    7    8    9\n",
      "0  1.0  1.0  1.0  1.0  1.0  1.0  1.0  1.0  1.0  1.0\n",
      "1  NaN  1.0  1.0  1.0  1.0  1.0  1.0  1.0  1.0  1.0\n",
      "2  NaN  NaN  1.0  1.0  1.0  1.0  1.0  1.0  1.0  1.0\n",
      "3  NaN  NaN  NaN  1.0  1.0  1.0  1.0  1.0  1.0  1.0\n",
      "4  NaN  NaN  NaN  NaN  1.0  1.0  1.0  1.0  1.0  1.0\n",
      "5  NaN  NaN  NaN  NaN  NaN  1.0  1.0  1.0  1.0  1.0\n",
      "6  NaN  NaN  NaN  NaN  NaN  NaN  1.0  1.0  1.0  1.0\n",
      "7  NaN  NaN  NaN  NaN  NaN  NaN  NaN  1.0  1.0  1.0\n"
     ]
    }
   ],
   "source": [
    "print(d.dropna(axis='index', how='all', subset=[0,5,6,7]))"
   ]
  },
  {
   "cell_type": "markdown",
   "id": "495f37d7",
   "metadata": {},
   "source": [
    "##### 设置子集：删除第5、6、7行存在空值的列\n",
    "\n"
   ]
  },
  {
   "cell_type": "code",
   "execution_count": 8,
   "id": "48a2d9fd",
   "metadata": {},
   "outputs": [
    {
     "name": "stdout",
     "output_type": "stream",
     "text": [
      "      7    8    9\n",
      "0   1.0  1.0  1.0\n",
      "1   1.0  1.0  1.0\n",
      "2   1.0  1.0  1.0\n",
      "3   1.0  1.0  1.0\n",
      "4   1.0  1.0  1.0\n",
      "5   1.0  1.0  1.0\n",
      "6   1.0  1.0  1.0\n",
      "7   1.0  1.0  1.0\n",
      "8   NaN  1.0  1.0\n",
      "9   NaN  NaN  1.0\n",
      "10  NaN  NaN  NaN\n"
     ]
    }
   ],
   "source": [
    "print(d.dropna(axis=1, how='any', subset=[5,6,7]))"
   ]
  },
  {
   "cell_type": "markdown",
   "id": "985a9980",
   "metadata": {},
   "source": [
    "##### 原地修改"
   ]
  },
  {
   "cell_type": "code",
   "execution_count": 12,
   "id": "95eecdc8",
   "metadata": {},
   "outputs": [
    {
     "name": "stdout",
     "output_type": "stream",
     "text": [
      "None\n",
      "-------------------------------------------------------\n",
      "     0    1    2    3    4    5    6    7    8    9\n",
      "0  1.0  1.0  1.0  1.0  1.0  1.0  1.0  1.0  1.0  1.0\n"
     ]
    }
   ],
   "source": [
    "print(d.dropna(axis=0, how='any', inplace=True))#对原来的堆进行操作\n",
    "print(\"-\" * 55)\n",
    "print(d)"
   ]
  },
  {
   "cell_type": "markdown",
   "id": "c1a253c8",
   "metadata": {},
   "source": [
    "## 函数形式：\n",
    "## dropna(axis=0, how='any/all', thresh=None, subset=None, inplace=True/False)"
   ]
  }
 ],
 "metadata": {
  "kernelspec": {
   "display_name": "Python 3",
   "language": "python",
   "name": "python3"
  },
  "language_info": {
   "codemirror_mode": {
    "name": "ipython",
    "version": 3
   },
   "file_extension": ".py",
   "mimetype": "text/x-python",
   "name": "python",
   "nbconvert_exporter": "python",
   "pygments_lexer": "ipython3",
   "version": "3.8.8"
  }
 },
 "nbformat": 4,
 "nbformat_minor": 5
}
